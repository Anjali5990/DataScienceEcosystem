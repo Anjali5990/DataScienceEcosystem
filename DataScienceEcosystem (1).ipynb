{
 "cells": [
  {
   "cell_type": "markdown",
   "id": "e40a75a6-9e73-4b5e-a77b-1e2e7b9f488c",
   "metadata": {},
   "source": [
    "Exercise 1: Create a Jupyter Notebook\n",
    "Name it: DataScienceEcosystem.ipynb."
   ]
  },
  {
   "cell_type": "markdown",
   "id": "21eab930-06e0-43c6-b56d-0ed1de64a764",
   "metadata": {},
   "source": [
    "Exercise 2: Markdown Title\n",
    "# Data Science Tools and Ecosystem\n"
   ]
  },
  {
   "cell_type": "markdown",
   "id": "1189ec01-cbed-42f3-b41f-2b1a91ca9ffd",
   "metadata": {},
   "source": [
    "#Exercise 3: Introduction\n"
   ]
  },
  {
   "cell_type": "markdown",
   "id": "92b0cb02-f56f-4799-beb0-ae7cb6790e2a",
   "metadata": {},
   "source": [
    "In this notebook, Data Science Tools and Ecosystem are summarized.\n"
   ]
  },
  {
   "cell_type": "code",
   "execution_count": null,
   "id": "90347097-8706-4d59-a91c-843397c3c5d4",
   "metadata": {},
   "outputs": [],
   "source": [
    "#Exercise 4: List Data Science Languages"
   ]
  },
  {
   "cell_type": "markdown",
   "id": "e7f2dd28-a843-49eb-8ddd-ddf83a15b715",
   "metadata": {},
   "source": [
    "Some of the popular languages that Data Scientists use are:\n",
    "1. Python\n",
    "2. R\n",
    "3. SQL\n",
    "4. Java\n"
   ]
  },
  {
   "cell_type": "code",
   "execution_count": null,
   "id": "ace8f90a-c8a7-4052-af3c-f61f22106f98",
   "metadata": {},
   "outputs": [],
   "source": [
    "#Exercise 5: List Data Science Libraries"
   ]
  },
  {
   "cell_type": "markdown",
   "id": "3aaf1583-22bc-4059-b472-ca0951f3ab3f",
   "metadata": {},
   "source": [
    "Some of the commonly used libraries used by Data Scientists include:\n",
    "\n",
    "1. Pandas\n",
    "2. NumPy\n",
    "3. Matplotlib\n",
    "4. Scikit-learn\n"
   ]
  },
  {
   "cell_type": "code",
   "execution_count": null,
   "id": "4c7be547-05e4-4438-b49b-38dc39209f7d",
   "metadata": {},
   "outputs": [],
   "source": [
    "#Exercise 6: Table of Data Science Tools"
   ]
  },
  {
   "cell_type": "markdown",
   "id": "e903a9f4-844b-4ea0-bc63-2313890fac07",
   "metadata": {},
   "source": [
    "| Data Science Tools |\n",
    "|-------------------|\n",
    "| Jupyter Notebook  |\n",
    "| RStudio           |\n",
    "| Apache Zeppelin   |\n"
   ]
  },
  {
   "cell_type": "code",
   "execution_count": null,
   "id": "704227ee-6e8c-4263-833c-8ccb8fc70804",
   "metadata": {},
   "outputs": [],
   "source": [
    "#Exercise 7: Introduce Arithmetic Examples"
   ]
  },
  {
   "cell_type": "markdown",
   "id": "2b7ab157-3541-4464-b906-83e5e39cc453",
   "metadata": {},
   "source": [
    "### Below are a few examples of evaluating arithmetic expressions in Python.\n"
   ]
  },
  {
   "cell_type": "code",
   "execution_count": null,
   "id": "170d7193-5b8c-49cb-9a4d-95ad32df2056",
   "metadata": {},
   "outputs": [],
   "source": [
    "#Exercise 8: Multiply and Add Numbers"
   ]
  },
  {
   "cell_type": "code",
   "execution_count": 1,
   "id": "1a068ed1-3b52-4a16-bc16-3d221b2270f6",
   "metadata": {},
   "outputs": [
    {
     "data": {
      "text/plain": [
       "17"
      ]
     },
     "execution_count": 1,
     "metadata": {},
     "output_type": "execute_result"
    }
   ],
   "source": [
    "# This is a simple arithmetic expression to multiply then add integers\n",
    "(3*4) + 5\n"
   ]
  },
  {
   "cell_type": "code",
   "execution_count": null,
   "id": "f9522f41-18c2-44bf-a0a6-7442e6f71026",
   "metadata": {},
   "outputs": [],
   "source": [
    "#Exercise 9: Convert Minutes to Hours"
   ]
  },
  {
   "cell_type": "code",
   "execution_count": 2,
   "id": "1c5eb235-807c-4160-9f5c-96540a834858",
   "metadata": {},
   "outputs": [
    {
     "data": {
      "text/plain": [
       "3.3333333333333335"
      ]
     },
     "execution_count": 2,
     "metadata": {},
     "output_type": "execute_result"
    }
   ],
   "source": [
    "# This will convert 200 minutes to hours by dividing by 60\n",
    "200 / 60\n"
   ]
  },
  {
   "cell_type": "code",
   "execution_count": null,
   "id": "f90f4a61-8eb8-4f82-9dd1-c84487fa5ac5",
   "metadata": {},
   "outputs": [],
   "source": [
    "#Exercise 10: List Objectives"
   ]
  },
  {
   "cell_type": "markdown",
   "id": "ed5529ed-3c60-4474-8d95-0b9dbabc4083",
   "metadata": {},
   "source": [
    "**Objectives:**\n",
    "- List popular languages for Data Science\n",
    "- List commonly used libraries\n",
    "- Explore Data Science tools\n",
    "- Evaluate basic arithmetic in Python\n"
   ]
  },
  {
   "cell_type": "code",
   "execution_count": null,
   "id": "d9002f45-21c3-4c1f-a4af-3e1a9ddde1f8",
   "metadata": {},
   "outputs": [],
   "source": [
    "#Exercise 11: Author Details"
   ]
  },
  {
   "cell_type": "markdown",
   "id": "f7371ee6-c384-40cc-beb9-651faf628175",
   "metadata": {},
   "source": [
    "## Author\n",
    "Anjali\n"
   ]
  },
  {
   "cell_type": "code",
   "execution_count": null,
   "id": "ac19f435-1616-4b59-b8ab-e9ce2e219180",
   "metadata": {},
   "outputs": [],
   "source": []
  }
 ],
 "metadata": {
  "kernelspec": {
   "display_name": "Python 3 (ipykernel)",
   "language": "python",
   "name": "python3"
  },
  "language_info": {
   "codemirror_mode": {
    "name": "ipython",
    "version": 3
   },
   "file_extension": ".py",
   "mimetype": "text/x-python",
   "name": "python",
   "nbconvert_exporter": "python",
   "pygments_lexer": "ipython3",
   "version": "3.12.8"
  }
 },
 "nbformat": 4,
 "nbformat_minor": 5
}
